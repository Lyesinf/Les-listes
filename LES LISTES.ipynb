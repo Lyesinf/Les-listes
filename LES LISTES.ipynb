{
 "cells": [
  {
   "cell_type": "code",
   "execution_count": 130,
   "id": "95e976c1",
   "metadata": {
    "scrolled": true
   },
   "outputs": [
    {
     "name": "stdout",
     "output_type": "stream",
     "text": [
      "['p', 'orange', 'o', 'm', 'm', 'grape', 'fraise', 'e', 'banana', 'apple', 'apple']\n"
     ]
    },
    {
     "data": {
      "text/plain": [
       "[]"
      ]
     },
     "execution_count": 130,
     "metadata": {},
     "output_type": "execute_result"
    }
   ],
   "source": [
    "# Veuillez executer ligne par ligne \n",
    "# LES LISTES\n",
    "fruits = ['orange', 'apple', 'banana', 'kiwi', 'apple', 'banana'] # Type 'Liste' creer par l'utilisateur au choix \n",
    "fruits  # Afficher les éléments de la liste (Appeler par son Nom)                \n",
    "fruits.count('orange') # Calculer le Nombre de redendance d'un MOT expl: orange=1; banana=2; kiwi=1\n",
    "fruits.append('grape') # Ajouter un élément a la fin de la liste ['orange', 'apple',...., 'apple', 'banana', 'grape']\n",
    "fruits\n",
    "fruits.extend ('pomme') #Ajouter 'pomme' a la fin de la liste carractere par carractere 'p','o','m','m','e'\n",
    "fruits\n",
    "fruits.insert(3, 'fraise') # Inserer l'lément \"fraise\" a la position de l'indexe \"3\" la liste commence par \"0\"\n",
    "fruits\n",
    "fruits.remove('banana') # Supprime le premier élément \"banana\" / il renvoie une erreure si l'élément n'éxiste pas\n",
    "fruits\n",
    "fruits.pop(3) # Renvoi l'élément se trouvent a l'index \"3\"/au lieux de \"fraise\" c'est kiwi/on as supprimer banana avec remove\n",
    "fruits.index(\"apple\") # Afficher l'indexe de l'élément \n",
    "fruits.index(\"apple\",3) # Afficher l'indexe de l'élément qui sont aprés l'index 3\n",
    "fruits.sort(reverse=False) # Trier les éléménts de la liste / \"reverse\" c'est le trie de \"A\" a \"Z\" ou de \"Z\" a A\n",
    "fruits\n",
    "fruits.reverse() # Inversez les éléments de la liste le dérnier devient le premier et le premier devient le dérnier.\n",
    "fruits.copy() # Renvoie une copie superficielle de la liste\n",
    "fruits\n",
    "x=fruits.copy()\n",
    "print(x)\n",
    "fruits.clear()\n",
    "fruits\n",
    "\n",
    "#fruits.sort(key=None,reverse=False) # \"Key\" : Trier les éléménts de la liste selon des critaires\n",
    "\n",
    "\n"
   ]
  },
  {
   "cell_type": "code",
   "execution_count": null,
   "id": "db97b7a9",
   "metadata": {},
   "outputs": [],
   "source": []
  }
 ],
 "metadata": {
  "kernelspec": {
   "display_name": "Python 3 (ipykernel)",
   "language": "python",
   "name": "python3"
  },
  "language_info": {
   "codemirror_mode": {
    "name": "ipython",
    "version": 3
   },
   "file_extension": ".py",
   "mimetype": "text/x-python",
   "name": "python",
   "nbconvert_exporter": "python",
   "pygments_lexer": "ipython3",
   "version": "3.9.7"
  }
 },
 "nbformat": 4,
 "nbformat_minor": 5
}
